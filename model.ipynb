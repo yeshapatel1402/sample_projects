{
 "cells": [
  {
   "cell_type": "code",
   "execution_count": 1,
   "id": "728d8d0f",
   "metadata": {},
   "outputs": [
    {
     "name": "stdout",
     "output_type": "stream",
     "text": [
      "Accuracy: 0.25\n",
      "              precision    recall  f1-score   support\n",
      "\n",
      "      Beauty       0.07      0.01      0.02      1032\n",
      "       Books       0.14      0.09      0.11      2973\n",
      "    Clothing       0.20      0.20      0.20      4037\n",
      " Electronics       0.30      0.57      0.40      6100\n",
      "        Food       0.15      0.09      0.11      2896\n",
      "      Health       0.09      0.03      0.05      1970\n",
      "        Home       0.04      0.01      0.01       992\n",
      "\n",
      "    accuracy                           0.25     20000\n",
      "   macro avg       0.14      0.14      0.13     20000\n",
      "weighted avg       0.19      0.25      0.20     20000\n",
      "\n"
     ]
    }
   ],
   "source": [
    "import pandas as pd\n",
    "from sklearn.model_selection import train_test_split\n",
    "from sklearn.preprocessing import StandardScaler, LabelEncoder\n",
    "from sklearn.ensemble import RandomForestClassifier\n",
    "from sklearn.metrics import classification_report, accuracy_score\n",
    "\n",
    "# Load dataset\n",
    "df = pd.read_csv('customer_data.csv')\n",
    "\n",
    "# Drop 'id' column \n",
    "df = df.drop(['id'], axis=1)\n",
    "\n",
    "# Use encoders for each column\n",
    "le_product = LabelEncoder()\n",
    "df['product_category'] = le_product.fit_transform(df['product_category'])\n",
    "\n",
    "le_gender = LabelEncoder()\n",
    "df['gender'] = le_gender.fit_transform(df['gender'])\n",
    "\n",
    "le_education = LabelEncoder()\n",
    "df['education'] = le_education.fit_transform(df['education'])\n",
    "\n",
    "le_region = LabelEncoder()\n",
    "df['region'] = le_region.fit_transform(df['region'])\n",
    "\n",
    "le_loyalty = LabelEncoder()\n",
    "df['loyalty_status'] = le_loyalty.fit_transform(df['loyalty_status'])\n",
    "\n",
    "# Map purchase_frequency values\n",
    "freq_map = {'rare': 1, 'occasional': 2, 'frequent': 3}\n",
    "df['purchase_frequency'] = df['purchase_frequency'].map(freq_map)\n",
    "df['purchase_frequency'] = pd.to_numeric(df['purchase_frequency'], errors='coerce')\n",
    "\n",
    "# Fill the missing values\n",
    "df['purchase_frequency'].fillna(df['purchase_frequency'].median(), inplace=True)\n",
    "df.fillna(df.median(numeric_only=True), inplace=True)\n",
    "\n",
    "# Scale numerical features\n",
    "scaler = StandardScaler()\n",
    "df[['age', 'income', 'purchase_frequency', 'purchase_amount']] = scaler.fit_transform(\n",
    "    df[['age', 'income', 'purchase_frequency', 'purchase_amount']]\n",
    ")\n",
    "\n",
    "# Features and target\n",
    "X = df.drop('product_category', axis=1)\n",
    "y = df['product_category']\n",
    "\n",
    "# Train-test split\n",
    "X_train, X_test, y_train, y_test = train_test_split(X, y, test_size=0.2, random_state=42)\n",
    "\n",
    "# Train model\n",
    "model = RandomForestClassifier()\n",
    "model.fit(X_train, y_train)\n",
    "\n",
    "# Predict\n",
    "y_pred = model.predict(X_test)\n",
    "\n",
    "accuracy = accuracy_score(y_test, y_pred)\n",
    "print(f\"Accuracy: {accuracy:.2f}\")\n",
    "print(classification_report(y_test, y_pred, target_names=le_product.classes_))\n"
   ]
  },
  {
   "cell_type": "code",
   "execution_count": null,
   "id": "bd7834a8",
   "metadata": {},
   "outputs": [],
   "source": []
  }
 ],
 "metadata": {
  "kernelspec": {
   "display_name": "Python 3 (ipykernel)",
   "language": "python",
   "name": "python3"
  },
  "language_info": {
   "codemirror_mode": {
    "name": "ipython",
    "version": 3
   },
   "file_extension": ".py",
   "mimetype": "text/x-python",
   "name": "python",
   "nbconvert_exporter": "python",
   "pygments_lexer": "ipython3",
   "version": "3.11.5"
  }
 },
 "nbformat": 4,
 "nbformat_minor": 5
}
